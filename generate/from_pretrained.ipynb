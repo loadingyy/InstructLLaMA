{
 "cells": [
  {
   "cell_type": "code",
   "execution_count": 1,
   "metadata": {},
   "outputs": [],
   "source": [
    "import torch\n",
    "import numpy as np\n",
    "\n",
    "# simple hack to support import module from parent directory\n",
    "import sys\n",
    "sys.path.append('../')\n",
    "\n",
    "from instruct_llama.tokenizer import Tokenizer\n",
    "from instruct_llama.models import LLaMA\n",
    "from instruct_llama.utils import Generator\n",
    "\n",
    "tokenizer_ckpt_path = '/Users/michael/LLaMA/tokenizer.model'\n",
    "tokenizer = Tokenizer(tokenizer_ckpt_path)\n",
    "\n",
    "model_ckpt_path = '/Users/michael/LLaMA/7B/consolidated.00.pth'\n",
    "\n",
    "torch.set_default_tensor_type(torch.cuda.HalfTensor)\n",
    "model = LLaMA.from_name('7B')\n",
    "torch.set_default_tensor_type(torch.FloatTensor)\n",
    "\n",
    "checkpoint = torch.load(model_ckpt_path, map_location=\"cpu\")\n",
    "\n",
    "model.load_state_dict(checkpoint, strict=False)\n",
    "\n",
    "generator = LLaMA(model, tokenizer)"
   ]
  }
 ],
 "metadata": {
  "kernelspec": {
   "display_name": "Python 3",
   "language": "python",
   "name": "python3"
  },
  "language_info": {
   "codemirror_mode": {
    "name": "ipython",
    "version": 3
   },
   "file_extension": ".py",
   "mimetype": "text/x-python",
   "name": "python",
   "nbconvert_exporter": "python",
   "pygments_lexer": "ipython3",
   "version": "3.10.9"
  },
  "orig_nbformat": 4
 },
 "nbformat": 4,
 "nbformat_minor": 2
}
