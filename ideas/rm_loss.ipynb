{
 "cells": [
  {
   "cell_type": "code",
   "execution_count": 1,
   "metadata": {},
   "outputs": [],
   "source": [
    "import math"
   ]
  },
  {
   "cell_type": "code",
   "execution_count": 2,
   "metadata": {},
   "outputs": [
    {
     "name": "stdout",
     "output_type": "stream",
     "text": [
      "1\n"
     ]
    }
   ],
   "source": [
    "K = 2\n",
    "N = 2\n",
    "\n",
    "C = math.comb(K, N)\n",
    "print(C)"
   ]
  },
  {
   "cell_type": "code",
   "execution_count": 3,
   "metadata": {},
   "outputs": [
    {
     "name": "stdout",
     "output_type": "stream",
     "text": [
      "6\n"
     ]
    }
   ],
   "source": [
    "K = 4\n",
    "N = 2\n",
    "\n",
    "C = math.comb(K, N)\n",
    "print(C)"
   ]
  },
  {
   "cell_type": "code",
   "execution_count": 4,
   "metadata": {},
   "outputs": [],
   "source": [
    "import torch"
   ]
  },
  {
   "cell_type": "code",
   "execution_count": 7,
   "metadata": {},
   "outputs": [],
   "source": [
    "def test_run(B, micro_batch_size=2, device=\"cuda\"):\n",
    "    batch_sequence = torch.randint(0, 200, size=(B, 256)).to(device)\n",
    "\n",
    "    terminal_steps = torch.randint(50, 100, size=(B, 1)).to(device)\n",
    "\n",
    "    for i in range(0, B, micro_batch_size):\n",
    "        end_idx = i + micro_batch_size\n",
    "        micro_batch_tokens = batch_sequence[i:end_idx]\n",
    "        print(micro_batch_tokens.shape)\n",
    "        size = len(micro_batch_tokens)\n",
    "        output = torch.randn(size=(size, 200, 1)).to(device)\n",
    "\n",
    "        output = output.squeeze(2)\n",
    "\n",
    "        terminal_idx = terminal_steps[i:end_idx]\n",
    "\n",
    "        r_T = torch.gather(output, dim=1, index=terminal_idx)\n",
    "        print(r_T.shape)\n"
   ]
  },
  {
   "cell_type": "code",
   "execution_count": 8,
   "metadata": {},
   "outputs": [
    {
     "name": "stdout",
     "output_type": "stream",
     "text": [
      "torch.Size([2, 256])\n",
      "torch.Size([2, 1])\n",
      "\n",
      "\n",
      "torch.Size([2, 256])\n",
      "torch.Size([2, 1])\n",
      "torch.Size([1, 256])\n",
      "torch.Size([1, 1])\n",
      "\n",
      "\n",
      "torch.Size([2, 256])\n",
      "torch.Size([2, 1])\n",
      "torch.Size([2, 256])\n",
      "torch.Size([2, 1])\n",
      "\n",
      "\n",
      "torch.Size([2, 256])\n",
      "torch.Size([2, 1])\n",
      "torch.Size([2, 256])\n",
      "torch.Size([2, 1])\n",
      "torch.Size([1, 256])\n",
      "torch.Size([1, 1])\n",
      "\n",
      "\n",
      "torch.Size([2, 256])\n",
      "torch.Size([2, 1])\n",
      "torch.Size([2, 256])\n",
      "torch.Size([2, 1])\n",
      "torch.Size([2, 256])\n",
      "torch.Size([2, 1])\n",
      "\n",
      "\n",
      "torch.Size([2, 256])\n",
      "torch.Size([2, 1])\n",
      "torch.Size([2, 256])\n",
      "torch.Size([2, 1])\n",
      "torch.Size([2, 256])\n",
      "torch.Size([2, 1])\n",
      "torch.Size([1, 256])\n",
      "torch.Size([1, 1])\n",
      "\n",
      "\n",
      "torch.Size([2, 256])\n",
      "torch.Size([2, 1])\n",
      "torch.Size([2, 256])\n",
      "torch.Size([2, 1])\n",
      "torch.Size([2, 256])\n",
      "torch.Size([2, 1])\n",
      "torch.Size([2, 256])\n",
      "torch.Size([2, 1])\n",
      "\n",
      "\n",
      "torch.Size([2, 256])\n",
      "torch.Size([2, 1])\n",
      "torch.Size([2, 256])\n",
      "torch.Size([2, 1])\n",
      "torch.Size([2, 256])\n",
      "torch.Size([2, 1])\n",
      "torch.Size([2, 256])\n",
      "torch.Size([2, 1])\n",
      "torch.Size([1, 256])\n",
      "torch.Size([1, 1])\n",
      "\n",
      "\n"
     ]
    }
   ],
   "source": [
    "for i in range(2, 10):\n",
    "    test_run(i)\n",
    "    print(\"\\n\")\n"
   ]
  }
 ],
 "metadata": {
  "kernelspec": {
   "display_name": "Python 3",
   "language": "python",
   "name": "python3"
  },
  "language_info": {
   "codemirror_mode": {
    "name": "ipython",
    "version": 3
   },
   "file_extension": ".py",
   "mimetype": "text/x-python",
   "name": "python",
   "nbconvert_exporter": "python",
   "pygments_lexer": "ipython3",
   "version": "3.10.12"
  },
  "orig_nbformat": 4
 },
 "nbformat": 4,
 "nbformat_minor": 2
}
