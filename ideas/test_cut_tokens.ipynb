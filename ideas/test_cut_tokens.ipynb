{
 "cells": [
  {
   "cell_type": "code",
   "execution_count": 2,
   "metadata": {},
   "outputs": [],
   "source": [
    "# simple hack to support import module from parent directory\n",
    "import sys\n",
    "sys.path.append('../')\n",
    "\n",
    "from instruct_llama.models.tokenizer import Tokenizer\n",
    "\n",
    "model_path = '/home/michael/models/meta_llama2/tokenizer.model'"
   ]
  },
  {
   "cell_type": "code",
   "execution_count": 3,
   "metadata": {},
   "outputs": [],
   "source": [
    "tokenizer = Tokenizer(model_path)"
   ]
  },
  {
   "cell_type": "code",
   "execution_count": 4,
   "metadata": {},
   "outputs": [
    {
     "name": "stdout",
     "output_type": "stream",
     "text": [
      "[518, 25580, 29962]\n",
      "[518, 29914, 25580, 29962]\n"
     ]
    }
   ],
   "source": [
    "for text in (\"[INST]\", \"[/INST]\"):\n",
    "    inst_ids = tokenizer.encode(text)\n",
    "    print(inst_ids)"
   ]
  },
  {
   "cell_type": "code",
   "execution_count": 5,
   "metadata": {},
   "outputs": [
    {
     "name": "stdout",
     "output_type": "stream",
     "text": [
      "[1724, 29915, 29879, 278, 7483, 4272, 310, 5546, 29973, 518, 25580, 29962, 306, 30010, 29885, 8852, 297, 599, 1438, 2531, 690, 518, 29914, 25580, 29962]\n",
      "[1724, 29915, 29879, 278, 7483, 4272, 310, 5546, 29973, 29961, 25580, 29962, 306, 30010, 29885, 8852, 297, 599, 1438, 2531, 690, 518, 29914, 25580, 29962]\n",
      "[1724, 29915, 29879, 278, 7483, 4272, 310, 5546, 7226, 25580, 29962, 306, 30010, 29885, 8852, 297, 599, 1438, 2531, 690, 518, 29914, 25580, 29962]\n"
     ]
    }
   ],
   "source": [
    "for text in (\n",
    "    \"What's the capital city of Japan? [INST] I’m interested in all these genres [/INST]\",\n",
    "    \"What's the capital city of Japan?[INST] I’m interested in all these genres [/INST]\",\n",
    "    \"What's the capital city of Japan.[INST] I’m interested in all these genres [/INST]\",\n",
    "             ):\n",
    "    token_ids = tokenizer.encode(text, bos=False, eos=False)\n",
    "    print(token_ids)"
   ]
  },
  {
   "cell_type": "code",
   "execution_count": 6,
   "metadata": {},
   "outputs": [],
   "source": [
    "def find_begin_of_inst_index(input_list, pattern=[518, 25580, 29962]):\n",
    "    \"\"\"Find the index of the [INST] token from the given list\"\"\"\n",
    "    pattern_length = len(pattern)\n",
    "    lst_length = len(input_list)\n",
    "    for i in range(lst_length - pattern_length + 1):\n",
    "        if input_list[i : i + pattern_length] == pattern:\n",
    "            return i\n",
    "\n",
    "    return -1  # Return -1 if pattern is not found"
   ]
  },
  {
   "cell_type": "code",
   "execution_count": 7,
   "metadata": {},
   "outputs": [
    {
     "name": "stdout",
     "output_type": "stream",
     "text": [
      "-1\n"
     ]
    }
   ],
   "source": [
    "idx = find_begin_of_inst_index(token_ids)\n",
    "print(idx)"
   ]
  },
  {
   "cell_type": "code",
   "execution_count": 8,
   "metadata": {},
   "outputs": [
    {
     "name": "stdout",
     "output_type": "stream",
     "text": [
      "? [INST] I know, I just added \n"
     ]
    }
   ],
   "source": [
    "toks = [29871, 29973, 2, 1, 518, 25580, 29962, 306, 1073, 29892, 306, 925, 2715, 29871]\n",
    "\n",
    "print(tokenizer.decode(toks))"
   ]
  }
 ],
 "metadata": {
  "kernelspec": {
   "display_name": "ml",
   "language": "python",
   "name": "python3"
  },
  "language_info": {
   "codemirror_mode": {
    "name": "ipython",
    "version": 3
   },
   "file_extension": ".py",
   "mimetype": "text/x-python",
   "name": "python",
   "nbconvert_exporter": "python",
   "pygments_lexer": "ipython3",
   "version": "3.11.7"
  }
 },
 "nbformat": 4,
 "nbformat_minor": 2
}
