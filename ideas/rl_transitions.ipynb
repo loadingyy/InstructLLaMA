{
 "cells": [
  {
   "cell_type": "code",
   "execution_count": 84,
   "metadata": {},
   "outputs": [],
   "source": [
    "import random\n",
    "import torch"
   ]
  },
  {
   "cell_type": "code",
   "execution_count": 85,
   "metadata": {},
   "outputs": [],
   "source": [
    "def generate_random_tokens(num_lists, min_length=10, max_length=256, min_value=0, max_value=32000):\n",
    "    results = []\n",
    "    for _ in range(num_lists):\n",
    "        # Generate a random length\n",
    "        list_length = random.randint(min_length, max_length)\n",
    "\n",
    "        # Generate a list of random integers with the generated length\n",
    "        random_tokens = [random.randint(min_value, max_value) for _ in range(list_length)]\n",
    "        results.append(random_tokens)\n",
    "\n",
    "    return results"
   ]
  },
  {
   "cell_type": "code",
   "execution_count": 86,
   "metadata": {},
   "outputs": [],
   "source": [
    "max_gen_len = 10\n",
    "\n",
    "# randomly sample a prompt to start a new episode\n",
    "prompt_tokens = generate_random_tokens(2, 2, 5)\n",
    "\n",
    "bsz = len(prompt_tokens)\n",
    "\n",
    "min_prompt_len = min(len(t) for t in prompt_tokens)\n",
    "max_prompt_len = max(len(t) for t in prompt_tokens)\n",
    "assert max_prompt_len <= max_gen_len\n",
    "total_len = min(max_gen_len, max_gen_len + max_prompt_len)\n",
    "\n",
    "pad_id = -1\n",
    "tokens = torch.full((bsz, total_len), pad_id, dtype=torch.long)\n",
    "for k, t in enumerate(prompt_tokens):\n",
    "    tokens[k, : len(t)] = torch.tensor(t, dtype=torch.long)\n",
    "\n",
    "prev_pos = 0\n",
    "eos_reached = torch.tensor([False] * bsz)\n",
    "input_text_mask = tokens != pad_id"
   ]
  },
  {
   "cell_type": "code",
   "execution_count": 87,
   "metadata": {},
   "outputs": [
    {
     "name": "stdout",
     "output_type": "stream",
     "text": [
      "tensor([[ True,  True, False, False, False, False, False, False, False, False],\n",
      "        [ True,  True,  True,  True,  True, False, False, False, False, False]])\n"
     ]
    }
   ],
   "source": [
    "print(input_text_mask)"
   ]
  },
  {
   "cell_type": "code",
   "execution_count": 88,
   "metadata": {},
   "outputs": [],
   "source": [
    "for i, toks in enumerate(prompt_tokens):\n",
    "    rand_len = random.randint(1, max_gen_len - len(toks))\n",
    "\n",
    "    for j in range(rand_len):\n",
    "        idx = len(toks) + j\n",
    "        tokens[i, idx] = random.randint(1, 32000)"
   ]
  },
  {
   "cell_type": "code",
   "execution_count": 89,
   "metadata": {},
   "outputs": [
    {
     "name": "stdout",
     "output_type": "stream",
     "text": [
      "tensor([[False, False, False, False,  True,  True,  True,  True,  True,  True],\n",
      "        [False, False, False, False, False, False, False, False,  True,  True]])\n"
     ]
    }
   ],
   "source": [
    "pad_mask = tokens == pad_id\n",
    "print(pad_mask)"
   ]
  },
  {
   "cell_type": "code",
   "execution_count": 90,
   "metadata": {},
   "outputs": [
    {
     "name": "stdout",
     "output_type": "stream",
     "text": [
      "tensor([[False, False, False, False,  True,  True,  True,  True,  True,  True],\n",
      "        [False, False, False, False, False, False, False, False,  True,  True]])\n"
     ]
    }
   ],
   "source": [
    "completion_mask = input_text_mask.logical_or(pad_mask)\n",
    "print(pad_mask)"
   ]
  },
  {
   "cell_type": "code",
   "execution_count": 91,
   "metadata": {},
   "outputs": [
    {
     "name": "stdout",
     "output_type": "stream",
     "text": [
      "tensor([[ True,  True, False, False, False, False, False, False, False,  True],\n",
      "        [ True,  True,  True,  True, False, False, False,  True,  True,  True]])\n"
     ]
    }
   ],
   "source": [
    "mask1 = torch.tensor([[ True,  True, False, False, False, False, False, False, False, False],\n",
    "        [ True,  True,  True,  True, False, False, False, False, False, False]])\n",
    "\n",
    "mask2 = torch.tensor([[False, False, False, False, False, False, False, False, False, True],\n",
    "        [False, False, False, False, False, False, False, True,  True,  True]])\n",
    "\n",
    "mask3 = mask1 | mask2  # Element-wise OR operation\n",
    "print(mask3)"
   ]
  },
  {
   "cell_type": "code",
   "execution_count": 92,
   "metadata": {},
   "outputs": [
    {
     "name": "stdout",
     "output_type": "stream",
     "text": [
      "tensor([[False, False,  True,  True,  True,  True,  True,  True,  True, False],\n",
      "        [False, False, False, False,  True,  True,  True, False, False, False]])\n"
     ]
    }
   ],
   "source": [
    "inverse_mask3 = ~mask3\n",
    "print(inverse_mask3)"
   ]
  },
  {
   "cell_type": "code",
   "execution_count": 93,
   "metadata": {},
   "outputs": [],
   "source": [
    "mask = torch.tensor([[False, False,  True,  True,  True,  True,  True,  True,  True, False],\n",
    "        [False, False, False, False,  True,  True,  True, False, False, False],\n",
    "        [False, False,  False,  False,  False,  True,  True,  True,  True, True]])"
   ]
  },
  {
   "cell_type": "code",
   "execution_count": 94,
   "metadata": {},
   "outputs": [
    {
     "name": "stdout",
     "output_type": "stream",
     "text": [
      "tensor([8, 6, 9])\n"
     ]
    }
   ],
   "source": [
    "# Reverse the mask along the columns\n",
    "reversed_mask = torch.flip(mask.float(), [1])\n",
    "\n",
    "# Find the indices of the first True value along each row (in the reversed mask)\n",
    "first_true_indices = torch.argmax(reversed_mask, dim=1)\n",
    "\n",
    "# Calculate the indices of the last True value in the original mask\n",
    "last_true_indices = mask.shape[1] - 1 - first_true_indices\n",
    "\n",
    "print(last_true_indices)"
   ]
  },
  {
   "cell_type": "code",
   "execution_count": 95,
   "metadata": {},
   "outputs": [
    {
     "name": "stdout",
     "output_type": "stream",
     "text": [
      "tensor([[True],\n",
      "        [True],\n",
      "        [True]])\n"
     ]
    }
   ],
   "source": [
    "terminal_steps = torch.gather(mask, dim=1, index=last_true_indices.unsqueeze(1))\n",
    "print(terminal_steps)"
   ]
  },
  {
   "cell_type": "code",
   "execution_count": 113,
   "metadata": {},
   "outputs": [
    {
     "name": "stdout",
     "output_type": "stream",
     "text": [
      "tensor([[81, 16, 59, 45, 79, 41, 39, 66, 91, 52],\n",
      "        [ 6,  5, 99, 18, 59, 91, 28, 21, 99, 20],\n",
      "        [50, 88, 85, 59, 59, 26, 28, 66, 23, 20]])\n"
     ]
    }
   ],
   "source": [
    "tokens = torch.randint(0, 100, size=(3, 10))\n",
    "print(tokens)"
   ]
  },
  {
   "cell_type": "code",
   "execution_count": 117,
   "metadata": {},
   "outputs": [],
   "source": [
    "tokens = torch.tensor([[ 0, 97, 93, 45, 23, -1, 96, 95, -1, 61],\n",
    "        [20, 10, 87, 64, 93, 11, 22, 75, 24, 75],\n",
    "        [20, 10, 87, 64, 93, 11, 22, 75, 24, -1],\n",
    "        [ 2,  1,  9, 59, 41,  1, -1, -1, 95, 98]])"
   ]
  },
  {
   "cell_type": "code",
   "execution_count": 118,
   "metadata": {},
   "outputs": [
    {
     "name": "stdout",
     "output_type": "stream",
     "text": [
      "tensor([5, 0, 9, 6])\n"
     ]
    }
   ],
   "source": [
    "value_to_find = -1\n",
    "\n",
    "# Create a boolean mask where the tensor is equal to the value to find\n",
    "mask = (tokens == value_to_find)\n",
    "\n",
    "\n",
    "# Find the indices of the first occurrence of the value in each row\n",
    "# indices = torch.argmax(mask.float(), dim=1) * mask.max(dim=1).values\n",
    "indices = torch.argmax(mask.float(), dim=1)\n",
    "\n",
    "\n",
    "print(indices)"
   ]
  },
  {
   "cell_type": "code",
   "execution_count": 123,
   "metadata": {},
   "outputs": [
    {
     "name": "stdout",
     "output_type": "stream",
     "text": [
      "tensor([[True, True, True, True, True, True, True, True, True, True],\n",
      "        [True, True, True, True, True, True, True, True, True, True],\n",
      "        [True, True, True, True, True, True, True, True, True, True],\n",
      "        [True, True, True, True, True, True, True, True, True, True]])\n"
     ]
    }
   ],
   "source": [
    "completion_mask = torch.ones_like(tokens).to(dtype=bool)\n",
    "\n",
    "print(completion_mask)"
   ]
  },
  {
   "cell_type": "code",
   "execution_count": 124,
   "metadata": {},
   "outputs": [
    {
     "name": "stdout",
     "output_type": "stream",
     "text": [
      "tensor([[False, False, False, False, False,  True,  True,  True,  True,  True],\n",
      "        [ True,  True,  True,  True,  True,  True,  True,  True,  True,  True],\n",
      "        [False, False, False, False, False, False, False, False, False,  True],\n",
      "        [False, False, False, False, False, False,  True,  True,  True,  True]])\n"
     ]
    }
   ],
   "source": [
    "for i, eos_idx in enumerate(indices.tolist()):\n",
    "    if eos_idx == 0:\n",
    "        continue\n",
    "    completion_mask[i, :eos_idx] = False\n",
    "\n",
    "print(completion_mask)"
   ]
  }
 ],
 "metadata": {
  "kernelspec": {
   "display_name": "Python 3",
   "language": "python",
   "name": "python3"
  },
  "language_info": {
   "codemirror_mode": {
    "name": "ipython",
    "version": 3
   },
   "file_extension": ".py",
   "mimetype": "text/x-python",
   "name": "python",
   "nbconvert_exporter": "python",
   "pygments_lexer": "ipython3",
   "version": "3.10.12"
  },
  "orig_nbformat": 4
 },
 "nbformat": 4,
 "nbformat_minor": 2
}
