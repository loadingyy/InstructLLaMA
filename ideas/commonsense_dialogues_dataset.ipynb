{
 "cells": [
  {
   "cell_type": "code",
   "execution_count": 1,
   "metadata": {},
   "outputs": [],
   "source": [
    "import random\n",
    "import os\n",
    "import re\n",
    "import json\n",
    "import numpy as np\n",
    "\n",
    "# simple hack to support import module from parent directory\n",
    "import sys\n",
    "sys.path.append('../')\n",
    "\n",
    "from instruct_llama.utils import build_prompt_completion\n",
    "\n",
    "DEFAULT_SYSTEM_PROMPT = {\n",
    "    \"role\": \"system\",\n",
    "    \"content\": \"You are a helpful, respectful and honest assistant. Always answer as helpfully as possible, while being safe. Please ensure that your responses are socially unbiased and correct. If you don't know the answer to a question, please don't share false information.\",\n",
    "}\n",
    "\n",
    "# build the training data using dialog style\n",
    "DEFAULT_DIALOG = [DEFAULT_SYSTEM_PROMPT]"
   ]
  },
  {
   "cell_type": "code",
   "execution_count": 2,
   "metadata": {},
   "outputs": [],
   "source": [
    "train_file = \"/home/michael/InstructLLaMA/raw_data/commonsense_dialogues/train.json\"\n"
   ]
  },
  {
   "cell_type": "code",
   "execution_count": 3,
   "metadata": {},
   "outputs": [],
   "source": [
    "content = None\n",
    "with open(train_file, \"r\", encoding=\"utf-8\") as file:\n",
    "    content = json.loads(file.read())"
   ]
  },
  {
   "cell_type": "code",
   "execution_count": 16,
   "metadata": {},
   "outputs": [],
   "source": [
    "dialogs = {}\n",
    "\n",
    "for item in content.values():\n",
    "    key = re.sub(r\"\\s+\", \"\", item[\"context\"])\n",
    "\n",
    "    if key not in dialogs:\n",
    "        dialogs[key] = []\n",
    "    \n",
    "    # dialogs[key].extend(item[\"turns\"])\n",
    "\n",
    "    for turn in item[\"turns\"]:\n",
    "        cleaned_text = turn.replace(\".  \", \". \").replace(\",  \", \", \").replace(\"  \", \" \").replace(\"?.\", \"?\")\n",
    "        dialogs[key].append(cleaned_text)\n"
   ]
  },
  {
   "cell_type": "code",
   "execution_count": 17,
   "metadata": {},
   "outputs": [],
   "source": [
    "def sample_dialogs(n=5):\n",
    "    samples = list(dialogs.values())\n",
    "    random.shuffle(samples)\n",
    "    \n",
    "    for dialog in samples[:n]:\n",
    "        # print(dialog)\n",
    "\n",
    "        for i in range(0, len(dialog)-1, 2):\n",
    "            print(f\"Question: {dialog[i]}\")\n",
    "            print(f\"Answer: {dialog[i+1]}\")\n",
    "\n",
    "        print(\"\\n\" + \"-\" * 60 + \"\\n\")"
   ]
  },
  {
   "cell_type": "code",
   "execution_count": 21,
   "metadata": {},
   "outputs": [
    {
     "name": "stdout",
     "output_type": "stream",
     "text": [
      "Question: I've really been there for Lee recently, he's been feeling down.\n",
      "Answer: What's up with him now?\n",
      "Question: He's been fired from his job, was a disaster waiting to happen.\n",
      "Answer: I heard that he really hasn't been having the best of time there.\n",
      "Question: He will come back stronger, I know Lee well.\n",
      "Answer: Well that is what friends are for Remy, to encourage and support.\n",
      "\n",
      "------------------------------------------------------------\n",
      "\n",
      "Question: We finally got our new budget done last night. It was a marathon session.\n",
      "Answer: I hate anything to do with bills and finances. I just let Kendra take care of it.\n",
      "Question: I would let my wife take care of it but she doesn't like it either. So we discuss the whole thing together.\n",
      "Answer: That's probably the best way to handle it.\n",
      "Question: Yes, especially since we had the baby. Seems like we're always broke.\n",
      "Answer: I understand that completely. All the diapers, formulas - they all cost a fortune.\n",
      "\n",
      "------------------------------------------------------------\n",
      "\n",
      "Question: I had a great time this afternoon.\n",
      "Answer: What did you do? Didn't you work today?\n",
      "Question: Today was a day off for me. I watched a movie.\n",
      "Answer: Did you watch it on Netflix?\n",
      "Question: No,we went to a theater with Riley's friends.\n",
      "Answer: I am glad you had a good time.\n",
      "Question: We just got back from the movies with my friends.\n",
      "Answer: Are they showing any good films?\n",
      "Question: Yes they did. We really enjoyed the movie and had a great time.\n",
      "Answer: Can I come with you next time.\n",
      "\n",
      "------------------------------------------------------------\n",
      "\n",
      "Question: I was hired by Casey to sell his home.\n",
      "Answer: How is it going?\n",
      "Question: As a realtor I was successful at finding a buyer for the home.\n",
      "Answer: Has the sale closed?\n",
      "Question: I worked closely with Casey and the house has been sold.\n",
      "Answer: Congratulations.\n",
      "Question: I think I was able to get Casey a really good price and she will be happy\n",
      "Answer: That is incredible, how much were you able to get in the end?\n",
      "Question: We finally settled on around 150,000 and I think both parties were happy in the end\n",
      "Answer: I am glad that everything worked itself out and that everyone is happy\n",
      "\n",
      "------------------------------------------------------------\n",
      "\n",
      "Question: Can't wait to get home tonight.\n",
      "Answer: Yeah it has been a long evening.\n",
      "Question: Wow, what is all this?\n",
      "Answer: This is your surprise party!\n",
      "Question: Thanks so much, I needed this.\n",
      "Answer: Of course, have fun.\n",
      "Question: This was such a wonderful suprise\n",
      "Answer: yeah man its great that you came out to see what we did\n",
      "Question: Thank you guys so much this is an awesome surprise party\n",
      "Answer: I know right. It took a while to get this party all set up for you, but you seem a little jovial as well\n",
      "Question: I am so grateful to have each and everyone of you in my life. This is amazing\n",
      "Answer: I know man. We are aware of that\n",
      "Question: I'm so surprised!\n",
      "Answer: Wow surprise man happy b day.\n",
      "Question: Yah this is great first time.\n",
      "Answer: Want to open your gifts.\n",
      "Question: Yes that would be great.\n",
      "Answer: Yea that would be a lot of fun.\n",
      "\n",
      "------------------------------------------------------------\n",
      "\n"
     ]
    }
   ],
   "source": [
    "\n",
    "sample_dialogs()"
   ]
  },
  {
   "cell_type": "code",
   "execution_count": 7,
   "metadata": {},
   "outputs": [],
   "source": [
    "# sample_dialogs()"
   ]
  }
 ],
 "metadata": {
  "kernelspec": {
   "display_name": "Python 3",
   "language": "python",
   "name": "python3"
  },
  "language_info": {
   "codemirror_mode": {
    "name": "ipython",
    "version": 3
   },
   "file_extension": ".py",
   "mimetype": "text/x-python",
   "name": "python",
   "nbconvert_exporter": "python",
   "pygments_lexer": "ipython3",
   "version": "3.10.6"
  },
  "orig_nbformat": 4
 },
 "nbformat": 4,
 "nbformat_minor": 2
}
