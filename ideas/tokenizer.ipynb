{
 "cells": [
  {
   "cell_type": "code",
   "execution_count": 1,
   "metadata": {},
   "outputs": [],
   "source": [
    "# simple hack to support import module from parent directory\n",
    "import sys\n",
    "sys.path.append('../')\n",
    "\n",
    "from instruct_llama.models.tokenizer import Tokenizer\n",
    "\n",
    "model_path = '/home/michael/models/meta_llama2/tokenizer.model'"
   ]
  },
  {
   "cell_type": "code",
   "execution_count": 2,
   "metadata": {},
   "outputs": [],
   "source": [
    "tokenizer = Tokenizer(model_path)"
   ]
  },
  {
   "cell_type": "code",
   "execution_count": 3,
   "metadata": {},
   "outputs": [
    {
     "data": {
      "text/plain": [
       "32000"
      ]
     },
     "execution_count": 3,
     "metadata": {},
     "output_type": "execute_result"
    }
   ],
   "source": [
    "tokenizer.vocab_size"
   ]
  },
  {
   "cell_type": "code",
   "execution_count": 4,
   "metadata": {},
   "outputs": [
    {
     "name": "stdout",
     "output_type": "stream",
     "text": [
      "2\n",
      "1\n",
      "0\n",
      "-1\n"
     ]
    }
   ],
   "source": [
    "print(tokenizer.eos_id)\n",
    "print(tokenizer.bos_id)\n",
    "print(tokenizer.unk_id)\n",
    "print(tokenizer.pad_id)"
   ]
  },
  {
   "cell_type": "code",
   "execution_count": 7,
   "metadata": {},
   "outputs": [
    {
     "name": "stdout",
     "output_type": "stream",
     "text": [
      "{'unk': {'id': 0, 'piece': '<unk>'}, 'bos': {'id': 1, 'piece': '<s>'}, 'eos': {'id': 2, 'piece': '</s>'}}\n"
     ]
    }
   ],
   "source": [
    "print(tokenizer.special_tokens)"
   ]
  },
  {
   "cell_type": "code",
   "execution_count": 5,
   "metadata": {},
   "outputs": [
    {
     "name": "stdout",
     "output_type": "stream",
     "text": [
      "[518, 25580, 29962]\n"
     ]
    }
   ],
   "source": [
    "token_ids = tokenizer.encode(\"[INST]\")\n",
    "print(token_ids)"
   ]
  },
  {
   "cell_type": "code",
   "execution_count": 4,
   "metadata": {},
   "outputs": [
    {
     "name": "stdout",
     "output_type": "stream",
     "text": [
      "[1939, 29889]\n"
     ]
    }
   ],
   "source": [
    "token_ids = tokenizer.encode(\"No.\")\n",
    "print(token_ids)"
   ]
  },
  {
   "cell_type": "code",
   "execution_count": 6,
   "metadata": {},
   "outputs": [
    {
     "name": "stdout",
     "output_type": "stream",
     "text": [
      "[1724, 29915, 29879, 278, 7483, 4272, 310, 5546, 29973]\n"
     ]
    }
   ],
   "source": [
    "token_ids = tokenizer.encode(\"What's the capital city of Japan?\", bos=False, eos=False)\n",
    "print(token_ids)"
   ]
  },
  {
   "cell_type": "code",
   "execution_count": 7,
   "metadata": {},
   "outputs": [
    {
     "name": "stdout",
     "output_type": "stream",
     "text": [
      "What's the capital city of Japan?\n"
     ]
    }
   ],
   "source": [
    "text = tokenizer.decode(token_ids)\n",
    "print(text)"
   ]
  },
  {
   "cell_type": "code",
   "execution_count": 8,
   "metadata": {},
   "outputs": [
    {
     "name": "stdout",
     "output_type": "stream",
     "text": [
      "[1724, 29915, 29879, 278, 7483, 4272, 310, 5546, 29973, -1, -1, -1]\n"
     ]
    }
   ],
   "source": [
    "token_ids = tokenizer.encode(\"What's the capital city of Japan?\", bos=False, eos=False, max_length=12, pad=True)\n",
    "print(token_ids)"
   ]
  }
 ],
 "metadata": {
  "kernelspec": {
   "display_name": "Python 3",
   "language": "python",
   "name": "python3"
  },
  "language_info": {
   "codemirror_mode": {
    "name": "ipython",
    "version": 3
   },
   "file_extension": ".py",
   "mimetype": "text/x-python",
   "name": "python",
   "nbconvert_exporter": "python",
   "pygments_lexer": "ipython3",
   "version": "3.11.7"
  },
  "orig_nbformat": 4
 },
 "nbformat": 4,
 "nbformat_minor": 2
}
