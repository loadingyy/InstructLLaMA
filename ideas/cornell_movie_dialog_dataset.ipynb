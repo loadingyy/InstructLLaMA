{
 "cells": [
  {
   "cell_type": "code",
   "execution_count": 1,
   "metadata": {},
   "outputs": [],
   "source": [
    "import random\n",
    "import os\n",
    "import numpy as np\n",
    "\n",
    "# simple hack to support import module from parent directory\n",
    "import sys\n",
    "sys.path.append('../')\n",
    "\n",
    "from instruct_llama.utils import build_prompt_completion\n",
    "\n",
    "DEFAULT_SYSTEM_PROMPT = {\n",
    "    \"role\": \"system\",\n",
    "    \"content\": \"You are a helpful, respectful and honest assistant. Always answer as helpfully as possible, while being safe. Please ensure that your responses are socially unbiased and correct. If you don't know the answer to a question, please don't share false information.\",\n",
    "}\n",
    "\n",
    "# build the training data using dialog style\n",
    "DEFAULT_DIALOG = [DEFAULT_SYSTEM_PROMPT]"
   ]
  },
  {
   "cell_type": "code",
   "execution_count": 2,
   "metadata": {},
   "outputs": [],
   "source": [
    "def get_id2line(file):\n",
    "    lines=open(file, encoding='utf-8', errors='ignore').read().split('\\n')\n",
    "    id2line = {}\n",
    "    for line in lines:\n",
    "        _line = line.split(' +++$+++ ')\n",
    "        if len(_line) == 5:\n",
    "            id2line[_line[0]] = _line[4]\n",
    "    return id2line\n",
    "\n",
    "def get_conversations(file):\n",
    "    conv_lines = open(file, encoding='utf-8', errors='ignore').read().split('\\n')\n",
    "    convs = []\n",
    "    for line in conv_lines[:-1]:\n",
    "        _line = line.split(' +++$+++ ')[-1][1:-1].replace(\"'\",\"\").replace(\" \",\"\")\n",
    "        convs.append(_line.split(','))\n",
    "    return convs"
   ]
  },
  {
   "cell_type": "code",
   "execution_count": 3,
   "metadata": {},
   "outputs": [],
   "source": [
    "files_dir = \"/home/michael/InstructLLaMA/raw_data/cornell_movie_dialogs\"\n",
    "\n",
    "conversation_file = os.path.join(files_dir, \"movie_conversations.txt\")\n",
    "lines_file = os.path.join(files_dir, \"movie_lines.txt\")\n",
    "\n",
    "conversations = get_conversations(conversation_file)\n",
    "\n",
    "id2lines = get_id2line(lines_file)"
   ]
  },
  {
   "cell_type": "code",
   "execution_count": 4,
   "metadata": {},
   "outputs": [
    {
     "name": "stdout",
     "output_type": "stream",
     "text": [
      "[['L194', 'L195', 'L196', 'L197'], ['L198', 'L199'], ['L200', 'L201', 'L202', 'L203'], ['L204', 'L205', 'L206'], ['L207', 'L208'], ['L271', 'L272', 'L273', 'L274', 'L275'], ['L276', 'L277'], ['L280', 'L281'], ['L363', 'L364'], ['L365', 'L366']]\n",
      "['L1045', 'L1044', 'L985', 'L984', 'L925', 'L924', 'L872', 'L871', 'L870', 'L869']\n"
     ]
    }
   ],
   "source": [
    "print(conversations[:10])\n",
    "print(list(id2lines.keys())[:10])"
   ]
  },
  {
   "cell_type": "code",
   "execution_count": 20,
   "metadata": {},
   "outputs": [],
   "source": [
    "def sample_dialogs(n=5):\n",
    "    random.shuffle(conversations)\n",
    "    for ids in conversations[:n]:\n",
    "        dialog = []\n",
    "        for i in range(0,len(ids)-1,2):\n",
    "            question = id2lines[ids[i]]\n",
    "            answer = id2lines[ids[i+1]]\n",
    "\n",
    "            print(f\"Question: {question}\")\n",
    "            print(f\"Answer: {answer}\")\n",
    "        \n",
    "        print(\"\\n\"+\"-\"*60+\"\\n\")\n"
   ]
  },
  {
   "cell_type": "code",
   "execution_count": 24,
   "metadata": {},
   "outputs": [
    {
     "name": "stdout",
     "output_type": "stream",
     "text": [
      "Question: So if you had a bit more energy we'd stay split.  But things being how they are, what with you wiped out, you'd like us to get back together.\n",
      "Answer: Everything's too hard.  Maybe another time I would have the guts to be on my own, but not now I don't.\n",
      "Question: What about Ian?\n",
      "Answer: Ray's a disaster.  I don't know what that was all about, except that sometimes you need someone to lob into the middle of a bad relationship like a hand grenade, I guess, and blow it all apart.\n",
      "Question: Mission accomplished.\n",
      "Answer: I know it's not very romantic, but there will be romance again at some stage, I'm sure.  I just... I need you, Rob.  That's it.  And we know each other and we care for each other, and you've made it clear that you want me back, so...\n",
      "\n",
      "------------------------------------------------------------\n",
      "\n",
      "Question: That's a tragedy. Can I finish my story please? I began my search for meaning. I was a Catholic, Jew, Scientologist, Sufi, Buddhist. I went to a Psychologist, psychiatrist, herbalist, nutritionist, a shaman, and a psychic. And they all pretty much say the same stuff.\n",
      "Answer: A Jew, a shaman, and a herbalist are telling you the same thing? You're insane.\n",
      "Question: Basically the same thing. In a very evolved, esoteric way.\n",
      "Answer: Insane.\n",
      "\n",
      "------------------------------------------------------------\n",
      "\n",
      "Question: Hi Jody. What can I DO for you?\n",
      "Answer: Hi Miss Dunlop. Where do you keep the old town papers?\n",
      "Question: They're all on microfiche. What year are you looking for?\n",
      "Answer: Twenty eight years ago.\n",
      "\n",
      "------------------------------------------------------------\n",
      "\n",
      "Question: The envelope contains ten thousand dollars. The subject will be delivering the currency in a...\n",
      "Answer: A Broadway shopping bag.\n",
      "\n",
      "------------------------------------------------------------\n",
      "\n",
      "Question: What about the game?!\n",
      "Answer: I'm not playing.\n",
      "Question: You're missing the game for us?!\n",
      "Answer: No.  I'm missing the game for you.\n",
      "\n",
      "------------------------------------------------------------\n",
      "\n"
     ]
    }
   ],
   "source": [
    "sample_dialogs()"
   ]
  }
 ],
 "metadata": {
  "kernelspec": {
   "display_name": "Python 3",
   "language": "python",
   "name": "python3"
  },
  "language_info": {
   "codemirror_mode": {
    "name": "ipython",
    "version": 3
   },
   "file_extension": ".py",
   "mimetype": "text/x-python",
   "name": "python",
   "nbconvert_exporter": "python",
   "pygments_lexer": "ipython3",
   "version": "3.10.12"
  },
  "orig_nbformat": 4
 },
 "nbformat": 4,
 "nbformat_minor": 2
}
