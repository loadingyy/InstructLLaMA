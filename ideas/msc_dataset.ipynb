{
  "cells": [
    {
      "cell_type": "code",
      "execution_count": 1,
      "metadata": {},
      "outputs": [],
      "source": [
        "import json\n",
        "import random\n",
        "import numpy as np\n",
        "\n",
        "\n",
        "# simple hack to support import module from parent directory\n",
        "import sys\n",
        "sys.path.append('../')\n",
        "\n",
        "from instruct_llama.utils import build_prompt_completion\n",
        "\n",
        "DEFAULT_SYSTEM_PROMPT = {\n",
        "    \"role\": \"system\",\n",
        "    \"content\": \"You are a helpful, respectful and honest assistant. Always answer as helpfully as possible, while being safe. Please ensure that your responses are socially unbiased and correct. If you don't know the answer to a question, please don't share false information.\",\n",
        "}\n",
        "\n",
        "# build the training data using dialog style\n",
        "DEFAULT_DIALOG = [DEFAULT_SYSTEM_PROMPT]"
      ]
    },
    {
      "cell_type": "code",
      "execution_count": 2,
      "metadata": {},
      "outputs": [],
      "source": [
        "train_file = \"/home/michael/InstructLLaMA/raw_data/msc_dialogue/session_2/train.txt\"\n",
        "\n",
        "content = []\n",
        "\n",
        "with open(train_file, \"r\", encoding=\"utf-8\") as file:\n",
        "    for line in file:\n",
        "        content.append(json.loads(line.strip()))"
      ]
    },
    {
      "cell_type": "code",
      "execution_count": 3,
      "metadata": {},
      "outputs": [],
      "source": [
        "dialogs = []\n",
        "\n",
        "\n",
        "for item in content:\n",
        "    conversation = item[\"dialog\"]\n",
        "\n",
        "    assert len(conversation) > 2, f\"dialog length: {len(conversation)}\"\n",
        "\n",
        "    if len(conversation) % 2 != 0:\n",
        "        conversation = conversation[:-1]\n",
        "\n",
        "    assert len(conversation) % 2 == 0, f\"dialog length: {len(conversation)}\"\n",
        "\n",
        "    first_id = conversation[0][\"id\"]\n",
        "    second_id = conversation[1][\"id\"]\n",
        "\n",
        "    assert first_id != second_id\n",
        "\n",
        "    if not (\n",
        "        all([msg[\"id\"] == first_id for msg in conversation[0::2]])\n",
        "        and all([msg[\"id\"] == second_id for msg in conversation[1::2]])\n",
        "    ):\n",
        "        continue\n",
        "\n",
        "    dialog = [{\"role\": \"user\" if i % 2 == 0 else \"assistant\", \"content\": item[\"text\"]} for i, item in enumerate(conversation)]\n",
        "\n",
        "    assert all([msg[\"role\"] == \"user\" for msg in dialog[0::2]]) and all([msg[\"role\"] == \"assistant\" for msg in dialog[1::2]])\n",
        "\n",
        "    dialogs.append(dialog)\n",
        "\n"
      ]
    },
    {
      "cell_type": "code",
      "execution_count": 4,
      "metadata": {},
      "outputs": [
        {
          "name": "stdout",
          "output_type": "stream",
          "text": [
            "11.921357850070722\n",
            "6\n",
            "12\n"
          ]
        }
      ],
      "source": [
        "dialog_turns = [len(dialog) for dialog in dialogs]\n",
        "\n",
        "print(np.mean(dialog_turns))\n",
        "print(np.min(dialog_turns))\n",
        "print(np.max(dialog_turns))"
      ]
    },
    {
      "cell_type": "code",
      "execution_count": 8,
      "metadata": {},
      "outputs": [],
      "source": [
        "def sample_dialogs(n=5):\n",
        "    random.shuffle(dialogs)\n",
        "\n",
        "    for dialog in dialogs[:n]:\n",
        "        for i in range(0, len(dialog)-1, 2):\n",
        "            print(f\"Question: {dialog[i]['content']}\")\n",
        "            print(f\"Answer: {dialog[i+1]['content']}\")\n",
        "\n",
        "        print(\"\\n\"+\"-\"*60+\"\\n\")"
      ]
    },
    {
      "cell_type": "code",
      "execution_count": 11,
      "metadata": {},
      "outputs": [
        {
          "name": "stdout",
          "output_type": "stream",
          "text": [
            "Question: I am glad that I got a new job.\n",
            "Answer: Oh you did, where? I'm glad you got one.\n",
            "Question: Thanks! I'm starting on Monday as a barista at Starbucks! Maybe I can make you a coffee some day.\n",
            "Answer: I would love that. I love iced coffee so much.\n",
            "Question: I bet you drink a lot of coffee with 3 kids! How old are they?\n",
            "Answer: Haha yes I have to or i'll go crazy. My girl is five and the boys are seven and ten. They are growing up so fast.\n",
            "Question: I can imagine. I feel like it was just last week that I brought home Toby from the shelter. Now he's fat and old and just lays around staring at birds.\n",
            "Answer: Haha that's such a mood!! I bet he's the coolest. \n",
            "Question: He's a pretty great cat. Do you have any pets? I bet your kids would love a new kitten or puppy!\n",
            "Answer: I've been thinking about it for a while. I was thinking maybe a dog or a fish. But hearing about your cat I kind of want one for my kids now haha.\n",
            "Question: Cats are the perfect pet, especially with kids. They are low maintenance, don't have to go outside for walks or to use the bathroom, and they love to cuddle. I can recommend a good shelter if you're in the market! What do your kids want?\n",
            "Answer: Yes I will take the recommendation. You're right about cats, I love that they are sassy most of all lol. My kids just want something new in the house, they don't care what honestly.\n",
            "\n",
            "------------------------------------------------------------\n",
            "\n",
            "Question: Have you seen the new Star Wars film that just came out?  It is so good!\n",
            "Answer: I have not. I am more of a Star Trek fan.  What other Disney movies do you like?\n",
            "Question: I like a mix of new and old. I love The Lion King and Aladdin.\n",
            "Answer: Have you ever seen the Fast and the Furious? I love driving fast on my motorcycle.\n",
            "Question: Yes I've seen pretty much all of them whenever I get the chance that is. I've never ridden a motorcycle ...that must be exciting!\n",
            "Answer: It is.  But you have to watch out for everyone else on the road more than in a car.  How do you like being a waitress?\n",
            "Question: I'm sure it's a lot more dangerous than driving a car but the thrill could be worth it. I like me job during slow days and hate it during busy shifts. \n",
            "Answer: What's your favorite book, you said you like reading?\n",
            "Question: I like autobiographies of historical figures. It makes for a relaxing evening after a busy shift. How about yourself, do you have a favorite book?\n",
            "Answer: I don't read.  Unless you count magazines. My motorcycle club subscribes to a bunch of those.\n",
            "Question: Well that's good enough for most people. I mean as long as you're reading something right lol.\n",
            "Answer: Exactly!  And watching sports. Gotta have my football. Do you watch pro soccer?\n",
            "\n",
            "------------------------------------------------------------\n",
            "\n",
            "Question: I ate at a food truck and got burgers.\n",
            "Answer: Nice, how was it? Did you get fries? \n",
            "Question: It was a new one I have never tried, I loved it, and funny enough they have vegetarian and vegan options. Funny how that works. Fries are a must!\n",
            "Answer: Amazing. Are you vegetarian or vegan? \n",
            "Question: No I couldn't do it, I would miss my regular burgers too much. Especially if they're anything like the ones I just had.\n",
            "Answer: That's fair. Though my family is vegan, I am actually vegetarian. I just love cheese too much!\n",
            "Question: Cheese is my favorite food! That's exactly why I love burgers so much. I do respect veganism, but just couldn't do it.\n",
            "Answer: How is your cat doing? What colour is he/she?\n",
            "Question: He's a dark brown color with a sandy bottom. So you could say he's burger colored honestly and you would not be wrong.\n",
            "Answer: Haha that's so cute! My cat is ash colour - a Russian Blue with beautiful green eyes.\n",
            "Question: So is that! Mine is half Siamese-half tuxedo cat with long fur. He got the dark from the dad and the sandy color from the mom, and big yellow eyes.\n",
            "Answer: How long have you had him for?\n",
            "\n",
            "------------------------------------------------------------\n",
            "\n",
            "Question: Did you get your car fixed?\n",
            "Answer: I did! It was the timing belt. Not too bad of a repair. Did you watch the superbowl?\n",
            "Question: I did! Can't believe Brady has another win! Although, the amount of penalties those refs were calling did seem a bit one-sided! Did you?\n",
            "Answer: I did watch it although I don't know much about football I enjoyed watching it. How many superbowl trophies does Brady have? It's something absurd like 8 isn't it?\n",
            "Question: This is his 7th win, 10th time making it to the Superbowl. I had to call out of work so I wouldn't miss it! Hope I don't get fired. Do you know when the next season of the Walking Dead is starting? I started reading the comics and kinda like it. Have you read the comics too?\n",
            "Answer: Wow that is a lot of wins! I don't know when it starts but I can't wait!! I am so excited to see what happens. I haven't read the comics! I am afraid if I read the comics I won't like the show as much. Have you ever seen an episode or just read the comics?\n",
            "Question: I've only read a few of the comics so far. Not sure when I want to start the series, maybe when I'm caught up a bit and can compare the books and the shows. Maybe I'll binge it! Any snack suggestions?\n",
            "Answer: It's always dangerous to watch a show based on literature in my opinion! They never can get it quite right. I have been eating a lot of Poppables chips and hummus! I love those chips they are light and airy. Whats your favorite snack?\n",
            "Question: This is true. Sometimes I really hate it when they change the story for the shows/movies. That sounds delicious! Is pizza a snack? I could eat it all days. Maybe I'll pick up some bagel bites. Ever tried those?\n",
            "Answer: haha, yes pizza counts as a snack I think. Especially leftover pizza. I haven't tried them but they look good and bite sized! I need to pick up some guacomole. That's another favorite snack of mine. \n",
            "Question: Yes! Thanks for the reminder. I love spicy guacamole the most. Of course, I can't forget snacks for Gandalf too, he loves to sit me with and watch shows.\n",
            "Answer: That sounds like a very nice time. If I had a dog it would probably be addicted to junk food too! Have you eaten blow pops before? I have been eating a ton of those lately, too.\n",
            "\n",
            "------------------------------------------------------------\n",
            "\n",
            "Question: How has the job search been going?\n",
            "Answer: I haven't had luck so far but I am trying new sites. It's pretty tough, have you been job searching lately?\n",
            "Question: I am sorry! I hope things pick up. No I haven't. Right now I am just taking some time to self-reflect. I don't know if my industry is right for me. Are you passionate about making video games?\n",
            "Answer: Yes I love making video games. My friends and my mom tell me I have great ideas for video games. I just need some work experience. How has your last week been?\n",
            "Question: Yeah, getting your foot in the door is always rough! My week has been nice. I just went to the lake and fished. I caught a huge fish and drew it. What did you do this week?\n",
            "Answer: I ran some errands for my father. He has helped me get by while I get my feet under me. I've never fished, how long have you been a fisher?\n",
            "Question: Wow that's very kind of him. Parents are great! I have been fishing for 15 years if you can believe it! Do you have any interest in fishing? I could teach you.\n",
            "Answer: Yes I actually need a hobby. Do you have a boat?\n",
            "Question: I would love to teach you!! I do have a boat. It's not very big but it does the job. Do you get seasick? \n",
            "Answer: Well, I don't know actually. There's only one way to find out if I get sea sick. It sounds like it will be fun.\n",
            "Question: I will make sure to bring some medicine. Sea sickness is not very fun!! I bet you would love being on the water. It's so relaxing\n",
            "Answer: Is it alright if I bring a friend? You could bring a family member or friend or whatever and have a get together.\n",
            "\n",
            "------------------------------------------------------------\n",
            "\n"
          ]
        }
      ],
      "source": [
        "sample_dialogs()"
      ]
    }
  ],
  "metadata": {
    "kernelspec": {
      "display_name": "Python 3",
      "language": "python",
      "name": "python3"
    },
    "language_info": {
      "codemirror_mode": {
        "name": "ipython",
        "version": 3
      },
      "file_extension": ".py",
      "mimetype": "text/x-python",
      "name": "python",
      "nbconvert_exporter": "python",
      "pygments_lexer": "ipython3",
      "version": "3.10.12"
    },
    "orig_nbformat": 4
  },
  "nbformat": 4,
  "nbformat_minor": 2
}
